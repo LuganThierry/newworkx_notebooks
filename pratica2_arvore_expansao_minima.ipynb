{
  "nbformat": 4,
  "nbformat_minor": 0,
  "metadata": {
    "colab": {
      "provenance": [],
      "authorship_tag": "ABX9TyP4jKvsBC09jsDw6JS5UdhZ",
      "include_colab_link": true
    },
    "kernelspec": {
      "name": "python3",
      "display_name": "Python 3"
    },
    "language_info": {
      "name": "python"
    }
  },
  "cells": [
    {
      "cell_type": "markdown",
      "metadata": {
        "id": "view-in-github",
        "colab_type": "text"
      },
      "source": [
        "<a href=\"https://colab.research.google.com/github/LuganThierry/newworkx_notebooks/blob/main/pratica2_arvore_expansao_minima.ipynb\" target=\"_parent\"><img src=\"https://colab.research.google.com/assets/colab-badge.svg\" alt=\"Open In Colab\"/></a>"
      ]
    },
    {
      "cell_type": "code",
      "execution_count": 1,
      "metadata": {
        "id": "BX7rjUh023I2"
      },
      "outputs": [],
      "source": [
        "import networkx as nx\n",
        "import numpy as np"
      ]
    },
    {
      "cell_type": "code",
      "source": [
        "# criando o array bidimensional de arrestas\n",
        "from_matrix = np.array([\n",
        "     [0, 1, 2, 2, 0],\n",
        "     [1, 0, 4, 6, 8],\n",
        "     [2, 4, 0, 3, 0],\n",
        "     [2, 6, 3, 0, 3],\n",
        "     [0, 8, 0, 3, 0]\n",
        "])"
      ],
      "metadata": {
        "id": "Tlsw76AG3MQZ"
      },
      "execution_count": 2,
      "outputs": []
    },
    {
      "cell_type": "code",
      "source": [
        "# adicionar os arcos ao grafo\n",
        "graph = nx.from_numpy_array(from_matrix)"
      ],
      "metadata": {
        "id": "YOoFsQ-_3xmr"
      },
      "execution_count": 3,
      "outputs": []
    },
    {
      "cell_type": "code",
      "source": [
        "graph.edges(data = True)"
      ],
      "metadata": {
        "colab": {
          "base_uri": "https://localhost:8080/"
        },
        "id": "w6vPwR7p37hK",
        "outputId": "52db6bd8-c44b-4944-ac38-30a0c51e467b"
      },
      "execution_count": 6,
      "outputs": [
        {
          "output_type": "execute_result",
          "data": {
            "text/plain": [
              "EdgeDataView([(0, 1, {'weight': 1}), (0, 2, {'weight': 2}), (0, 3, {'weight': 2}), (1, 2, {'weight': 4}), (1, 3, {'weight': 6}), (1, 4, {'weight': 8}), (2, 3, {'weight': 3}), (3, 4, {'weight': 3})])"
            ]
          },
          "metadata": {},
          "execution_count": 6
        }
      ]
    },
    {
      "cell_type": "code",
      "source": [
        "# identificar a árvore de expansão mínima\n",
        "tree = nx.minimum_spanning_tree(graph)"
      ],
      "metadata": {
        "id": "Bx0WJkgd4XZx"
      },
      "execution_count": 13,
      "outputs": []
    },
    {
      "cell_type": "code",
      "source": [
        "# identificando a nomenclatura dos nós\n",
        "node_labels = { 0: \"A\", 1: \"B\", 2: \"C\", 3: \"D\", 4: \"E\" }"
      ],
      "metadata": {
        "id": "yaLRWd0O4pyC"
      },
      "execution_count": 7,
      "outputs": []
    },
    {
      "cell_type": "code",
      "source": [
        "# definindo as coordenadas dos nós\n",
        "coordinates = [[0,0], [1,1], [1,-1], [2,0], [3,1]]"
      ],
      "metadata": {
        "id": "pSgbmWh05S8b"
      },
      "execution_count": 22,
      "outputs": []
    },
    {
      "cell_type": "code",
      "source": [
        "# definiir a cor dos arcos\n",
        "edge_colors = []\n",
        "edge_thickness = []\n",
        "for edge in graph.edges():\n",
        "    if edge in tree.edges():\n",
        "        edge_colors.append('red')\n",
        "        edge_thickness.append(3.0)\n",
        "    else:\n",
        "        edge_colors.append('black')\n",
        "        edge_thickness.append(1.0)"
      ],
      "metadata": {
        "id": "94p-L_zm5pd5"
      },
      "execution_count": 19,
      "outputs": []
    },
    {
      "cell_type": "code",
      "source": [
        "# plotar o grafo\n",
        "nx.draw_networkx(\n",
        "    graph,\n",
        "    pos = coordinates,\n",
        "    node_color = 'white',\n",
        "    edgecolors = 'black',\n",
        "    edge_color = edge_colors,\n",
        "    width = edge_thickness,\n",
        "    labels = node_labels\n",
        "  )"
      ],
      "metadata": {
        "colab": {
          "base_uri": "https://localhost:8080/",
          "height": 406
        },
        "id": "3QPkeD8D4-5v",
        "outputId": "513ee4eb-e064-4aba-9105-e4d61a5233ff"
      },
      "execution_count": 23,
      "outputs": [
        {
          "output_type": "display_data",
          "data": {
            "text/plain": [
              "<Figure size 640x480 with 1 Axes>"
            ],
            "image/png": "[encoded data removed]"
          },
          "metadata": {}
        }
      ]
    }
  ]
}